{
  "nbformat": 4,
  "nbformat_minor": 0,
  "metadata": {
    "colab": {
      "provenance": [],
      "authorship_tag": "ABX9TyN6fwvoH9zQYE8WJxcr7Jx5",
      "include_colab_link": true
    },
    "kernelspec": {
      "name": "python3",
      "display_name": "Python 3"
    },
    "language_info": {
      "name": "python"
    }
  },
  "cells": [
    {
      "cell_type": "markdown",
      "metadata": {
        "id": "view-in-github",
        "colab_type": "text"
      },
      "source": [
        "<a href=\"https://colab.research.google.com/github/Ashavennela/AICTE_ipnyb_project/blob/main/AICTE_FINAL_SUBMISSION_PROJECT.ipynb\" target=\"_parent\"><img src=\"https://colab.research.google.com/assets/colab-badge.svg\" alt=\"Open In Colab\"/></a>"
      ]
    },
    {
      "cell_type": "code",
      "source": [
        "# Step 1: Import Required Libraries\n",
        "\n",
        "# For data manipulation and analysis\n",
        "import pandas as pd  # data analytics\n",
        "import numpy as np   # numerical data\n",
        "\n",
        "# For data visualization\n",
        "import seaborn as sns  # statistical data visualization\n",
        "import matplotlib.pyplot as plt  # basic plotting\n",
        "plt.style.use('fivethirtyeight')  # style for better visuals\n",
        "\n",
        "# For splitting dataset and model evaluation\n",
        "from sklearn.model_selection import train_test_split, GridSearchCV\n",
        "\n",
        "# For machine learning algorithms\n",
        "from sklearn.ensemble import RandomForestRegressor\n",
        "\n",
        "# For model evaluation metrics\n",
        "from sklearn.metrics import mean_squared_error, r2_score\n"
      ],
      "metadata": {
        "id": "J9V6cJufXq-u"
      },
      "execution_count": 19,
      "outputs": []
    },
    {
      "cell_type": "code",
      "source": [
        "import zipfile\n",
        "import pandas as pd\n",
        "\n",
        "# Path to your ZIP file\n",
        "zip_path = \"/content/archive (1).zip\"\n",
        "\n",
        "# Open the zip file\n",
        "with zipfile.ZipFile(zip_path, 'r') as zip_ref:\n",
        "    # Get the list of files inside the zip\n",
        "    file_list = zip_ref.namelist()\n",
        "    print(\"Files inside ZIP:\", file_list)\n",
        "\n",
        "    # Select the first file from the list\n",
        "    csv_file = file_list[0]\n",
        "    print(\"Reading:\", csv_file)\n",
        "\n",
        "    # Extract only that file to /content\n",
        "    zip_ref.extract(csv_file, \"/content\")\n",
        "\n",
        "# Read the CSV into a pandas DataFrame\n",
        "df = pd.read_csv(f\"/content/{csv_file}\")\n"
      ],
      "metadata": {
        "colab": {
          "base_uri": "https://localhost:8080/"
        },
        "id": "o-DiZDbErdkf",
        "outputId": "bf5a6152-5666-45f6-ee56-aaba88375cc1"
      },
      "execution_count": 20,
      "outputs": [
        {
          "output_type": "stream",
          "name": "stdout",
          "text": [
            "Files inside ZIP: ['emissions_EU27.csv', 'emissions_EU28.csv']\n",
            "Reading: emissions_EU27.csv\n"
          ]
        }
      ]
    },
    {
      "cell_type": "code",
      "source": [
        "# ================== DATA CLEANING PIPELINE ==================\n",
        "\n",
        "import pandas as pd\n",
        "import numpy as np\n",
        "\n",
        "# 1. Inspect the dataset\n",
        "print(\"First 5 rows:\")\n",
        "print(df.head())\n",
        "\n",
        "print(\"\\nLast 5 rows:\")\n",
        "print(df.tail())\n",
        "\n",
        "print(\"\\nDataset info:\")\n",
        "print(df.info())\n",
        "\n",
        "print(\"\\nSummary statistics:\")\n",
        "print(df.describe())\n",
        "\n",
        "# 2. Remove duplicate rows\n",
        "df.drop_duplicates(inplace=True)\n",
        "\n",
        "# 3. Handle missing values\n",
        "print(\"\\nMissing values before cleaning:\")\n",
        "print(df.isnull().sum())\n",
        "\n",
        "# Fill numeric NaN with median\n",
        "df.fillna(df.median(numeric_only=True), inplace=True)\n",
        "\n",
        "# Fill categorical NaN with mode\n",
        "for col in df.select_dtypes(include=['object']).columns:\n",
        "    if df[col].isnull().sum() > 0:\n",
        "        df[col].fillna(df[col].mode()[0], inplace=True)\n",
        "\n",
        "print(\"\\nMissing values after filling:\")\n",
        "print(df.isnull().sum())\n",
        "\n",
        "# 4. Standardize column names\n",
        "df.columns = df.columns.str.strip().str.lower().str.replace(' ', '_')\n",
        "\n",
        "# 5. Fix data types (convert dates and numerics where possible)\n",
        "for col in df.columns:\n",
        "    # Try to convert to numeric\n",
        "    df[col] = pd.to_numeric(df[col], errors='ignore')\n",
        "    # If still object, try date conversion (skip if fails)\n",
        "    if df[col].dtype == 'object':\n",
        "        try:\n",
        "            df[col] = pd.to_datetime(df[col])\n",
        "        except:\n",
        "            pass\n",
        "\n",
        "# 6. Outlier removal for numeric columns using IQR\n",
        "for col in df.select_dtypes(include=['float64', 'int64']).columns:\n",
        "    Q1 = df[col].quantile(0.25)\n",
        "    Q3 = df[col].quantile(0.75)\n",
        "    IQR = Q3 - Q1\n",
        "    df = df[(df[col] >= Q1 - 1.5 * IQR) & (df[col] <= Q3 + 1.5 * IQR)]\n",
        "\n",
        "# 7. (Optional) One-hot encoding for categorical columns\n",
        "# df = pd.get_dummies(df, drop_first=True)\n",
        "\n",
        "print(\"\\nData cleaning complete!\")\n",
        "print(\"Shape of cleaned data:\", df.shape)\n"
      ],
      "metadata": {
        "colab": {
          "base_uri": "https://localhost:8080/"
        },
        "id": "wp44W9sznBAD",
        "outputId": "36671c6d-ba94-479b-f7fc-e07d030136d8"
      },
      "execution_count": null,
      "outputs": [
        {
          "output_type": "stream",
          "name": "stdout",
          "text": [
            "First 5 rows:\n",
            "   airpol  cpa08  induse  origin  unit  geo\\time         2019         2018  \\\n",
            "0       0      0       0       0     0         0        3.960        4.057   \n",
            "1       0      0       0       0     1         0  1769659.000  1812055.000   \n",
            "2       0      0       0       0     2         0     1769.659     1812.055   \n",
            "3       0      0       0       1     0         0        0.745        0.741   \n",
            "4       0      0       0       1     1         0   332721.000   331002.000   \n",
            "\n",
            "          2017         2016         2015         2014  \n",
            "0        4.120        4.067        3.944        3.745  \n",
            "1  1836908.000  1810658.000  1752187.000  1660024.000  \n",
            "2     1836.908     1810.658     1752.187     1660.024  \n",
            "3        0.736        0.714        0.735        0.659  \n",
            "4   328363.000   317759.000   326434.000   292046.000  \n",
            "\n",
            "Last 5 rows:\n",
            "        airpol  cpa08  induse  origin  unit  geo\\time         2019  \\\n",
            "173659      23     66      11       1     1         0   683708.000   \n",
            "173660      23     66      11       1     2         0      683.708   \n",
            "173661      23     66      11       2     0         0        7.888   \n",
            "173662      23     66      11       2     1         0  3524926.000   \n",
            "173663      23     66      11       2     2         0     3524.926   \n",
            "\n",
            "               2018         2017         2016         2015         2014  \n",
            "173659   718046.000   737286.000   702891.000   707247.000   793954.000  \n",
            "173660      718.046      737.286      702.891      707.247      793.954  \n",
            "173661        8.538        8.861        8.565        9.384        9.928  \n",
            "173662  3813104.000  3950863.000  3812977.000  4168659.000  4401019.000  \n",
            "173663     3813.104     3950.863     3812.977     4168.659     4401.019  \n",
            "\n",
            "Dataset info:\n",
            "<class 'pandas.core.frame.DataFrame'>\n",
            "RangeIndex: 173664 entries, 0 to 173663\n",
            "Data columns (total 12 columns):\n",
            " #   Column    Non-Null Count   Dtype  \n",
            "---  ------    --------------   -----  \n",
            " 0   airpol    173664 non-null  int64  \n",
            " 1   cpa08     173664 non-null  int64  \n",
            " 2   induse    173664 non-null  int64  \n",
            " 3   origin    173664 non-null  int64  \n",
            " 4   unit      173664 non-null  int64  \n",
            " 5   geo\\time  173664 non-null  int64  \n",
            " 6   2019      173664 non-null  float64\n",
            " 7   2018      173664 non-null  float64\n",
            " 8   2017      173664 non-null  float64\n",
            " 9   2016      173664 non-null  float64\n",
            " 10  2015      173664 non-null  float64\n",
            " 11  2014      173664 non-null  float64\n",
            "dtypes: float64(6), int64(6)\n",
            "memory usage: 15.9 MB\n",
            "None\n",
            "\n",
            "Summary statistics:\n",
            "              airpol          cpa08         induse         origin  \\\n",
            "count  173664.000000  173664.000000  173664.000000  173664.000000   \n",
            "mean       11.500000      33.000000       5.500000       1.000000   \n",
            "std         6.922206      19.339135       3.452062       0.816499   \n",
            "min         0.000000       0.000000       0.000000       0.000000   \n",
            "25%         5.750000      16.000000       2.750000       0.000000   \n",
            "50%        11.500000      33.000000       5.500000       1.000000   \n",
            "75%        17.250000      50.000000       8.250000       2.000000   \n",
            "max        23.000000      66.000000      11.000000       2.000000   \n",
            "\n",
            "                unit  geo\\time          2019          2018          2017  \\\n",
            "count  173664.000000  173664.0  1.736640e+05  1.736640e+05  1.736640e+05   \n",
            "mean        1.000000       0.0  1.653404e+06  1.716231e+06  1.743212e+06   \n",
            "std         0.816499       0.0  4.952628e+07  5.159146e+07  5.251454e+07   \n",
            "min         0.000000       0.0 -1.319672e+07 -1.456878e+07 -1.469780e+07   \n",
            "25%         0.000000       0.0  0.000000e+00  0.000000e+00  0.000000e+00   \n",
            "50%         1.000000       0.0  2.460000e-01  2.530000e-01  2.545000e-01   \n",
            "75%         2.000000       0.0  1.580465e+02  1.620000e+02  1.639730e+02   \n",
            "max         2.000000       0.0  4.702857e+09  4.868814e+09  4.943480e+09   \n",
            "\n",
            "               2016          2015          2014  \n",
            "count  1.736640e+05  1.736640e+05  1.736640e+05  \n",
            "mean   1.717604e+06  1.725333e+06  1.728608e+06  \n",
            "std    5.192799e+07  5.181406e+07  5.148211e+07  \n",
            "min   -1.435097e+07 -1.966971e+07 -1.879076e+07  \n",
            "25%    0.000000e+00  0.000000e+00  0.000000e+00  \n",
            "50%    2.500000e-01  2.635000e-01  2.930000e-01  \n",
            "75%    1.610000e+02  1.686223e+02  1.794435e+02  \n",
            "max    4.859339e+09  4.881401e+09  4.892079e+09  \n",
            "\n",
            "Missing values before cleaning:\n",
            "airpol      0\n",
            "cpa08       0\n",
            "induse      0\n",
            "origin      0\n",
            "unit        0\n",
            "geo\\time    0\n",
            "2019        0\n",
            "2018        0\n",
            "2017        0\n",
            "2016        0\n",
            "2015        0\n",
            "2014        0\n",
            "dtype: int64\n",
            "\n",
            "Missing values after filling:\n",
            "airpol      0\n",
            "cpa08       0\n",
            "induse      0\n",
            "origin      0\n",
            "unit        0\n",
            "geo\\time    0\n",
            "2019        0\n",
            "2018        0\n",
            "2017        0\n",
            "2016        0\n",
            "2015        0\n",
            "2014        0\n",
            "dtype: int64\n",
            "\n",
            "Data cleaning complete!\n",
            "Shape of cleaned data: (40560, 12)\n"
          ]
        },
        {
          "output_type": "stream",
          "name": "stderr",
          "text": [
            "/tmp/ipython-input-1039627296.py:43: FutureWarning: errors='ignore' is deprecated and will raise in a future version. Use to_numeric without passing `errors` and catch exceptions explicitly instead\n",
            "  df[col] = pd.to_numeric(df[col], errors='ignore')\n"
          ]
        }
      ]
    },
    {
      "cell_type": "code",
      "source": [
        "# ================== DATA VISUALIZATION (LINE PLOT ONLY) ==================\n",
        "\n",
        "import matplotlib.pyplot as plt\n",
        "import seaborn as sns\n",
        "\n",
        "plt.style.use('fivethirtyeight')\n",
        "\n",
        "# Confirm the CSV file name\n",
        "print(\"Using file:\", csv_file)\n",
        "\n",
        "# df should already be loaded from previous step\n",
        "# If needed, uncomment to reload:\n",
        "# df = pd.read_csv(f\"/content/{csv_file}\")\n",
        "\n",
        "# Select numeric columns\n",
        "num_cols = df.select_dtypes(include=['float64', 'int64']).columns\n",
        "\n",
        "# Line plot for numeric columns\n",
        "if len(num_cols) > 0:\n",
        "    plt.figure(figsize=(12, 6))\n",
        "    plt.plot(df[num_cols])\n",
        "    plt.title(\"Line Plot of Numeric Columns\")\n",
        "    plt.xlabel(\"Index\")\n",
        "    plt.ylabel(\"Values\")\n",
        "    plt.legend(num_cols, bbox_to_anchor=(1.05, 1), loc='upper left')\n",
        "    plt.show()\n",
        "else:\n",
        "    print(\"No numeric columns available for line plot.\")\n"
      ],
      "metadata": {
        "colab": {
          "base_uri": "https://localhost:8080/",
          "height": 414
        },
        "id": "GEsKFR6EuECb",
        "outputId": "5ef759f7-7515-4ac8-cdfb-eddd0fcbb4f8"
      },
      "execution_count": null,
      "outputs": [
        {
          "output_type": "stream",
          "name": "stdout",
          "text": [
            "Using file: emissions_EU27.csv\n"
          ]
        },
        {
          "output_type": "display_data",
          "data": {
            "text/plain": [
              "<Figure size 1200x600 with 1 Axes>"
            ],
            "image/png": "[encoded data removed]"
          },
          "metadata": {}
        }
      ]
    },
    {
      "cell_type": "code",
      "source": [
        "from sklearn.model_selection import train_test_split\n",
        "from sklearn.preprocessing import LabelEncoder\n",
        "from sklearn.ensemble import RandomForestClassifier, RandomForestRegressor\n",
        "from sklearn.metrics import accuracy_score, r2_score\n",
        "\n",
        "t = df.columns[-1]\n",
        "for c in df.select_dtypes(include='object'):\n",
        "    df[c] = LabelEncoder().fit_transform(df[c].astype(str))\n",
        "\n",
        "X, y = df.drop(columns=[t]), df[t]\n",
        "Xtr, Xte, ytr, yte = train_test_split(X, y, test_size=0.2, random_state=42)\n",
        "\n",
        "if y.dtype=='object' or len(y.unique())<=20:\n",
        "    m = RandomForestClassifier().fit(Xtr, ytr)\n",
        "    print(\"Accuracy:\", round(accuracy_score(yte, m.predict(Xte))*100,2), \"%\")\n",
        "else:\n",
        "    m = RandomForestRegressor().fit(Xtr, ytr)\n",
        "    p = m.predict(Xte)\n",
        "    print(\"R²:\", round(r2_score(yte, p),4))\n"
      ],
      "metadata": {
        "colab": {
          "base_uri": "https://localhost:8080/"
        },
        "id": "arHpj125u2Gw",
        "outputId": "3ad414c1-e21d-41f7-eb78-afa1c98b30cf"
      },
      "execution_count": null,
      "outputs": [
        {
          "output_type": "stream",
          "name": "stdout",
          "text": [
            "Accuracy: 100.0 %\n"
          ]
        }
      ]
    }
  ]
}